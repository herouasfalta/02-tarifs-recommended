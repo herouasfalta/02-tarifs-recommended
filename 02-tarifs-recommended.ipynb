{
 "cells": [
  {
   "cell_type": "markdown",
   "metadata": {},
   "source": [
    "# Рекомендация тарифов"
   ]
  },
  {
   "cell_type": "markdown",
   "metadata": {},
   "source": [
    "**Описание проекта**\\\n",
    "Оператор мобильной связи «Мегалайн» выяснил: многие клиенты пользуются архивными тарифами. Они хотят построить систему, способную проанализировать поведение клиентов и предложить пользователям новый тариф: «Смарт» или «Ультра».\\\n",
    "\\\n",
    "Необходимо построить модель с максимально большим значением accuracy. Чтобы сдать проект успешно, нужно довести долю правильных ответов по крайней мере до 0.75.\n",
    "\n",
    "- сalls— количество звонков,\n",
    "- minutes— суммарная длительность звонков в минутах,\n",
    "- messages— количество sms-сообщений,\n",
    "- mb_used— израсходованный интернет-трафик в Мб,\n",
    "- is_ultra— каким тарифом пользовался в течение месяца («Ультра» — 1, «Смарт» — 0)."
   ]
  },
  {
   "cell_type": "markdown",
   "metadata": {},
   "source": [
    "## Открываю и изучаю файл"
   ]
  },
  {
   "cell_type": "code",
   "execution_count": 1,
   "metadata": {},
   "outputs": [],
   "source": [
    "import pandas as pd\n",
    "import matplotlib.pyplot as plt\n",
    "from sklearn.model_selection import train_test_split\n",
    "from sklearn.metrics import accuracy_score\n",
    "from sklearn.tree import DecisionTreeClassifier\n",
    "from sklearn.ensemble import RandomForestClassifier\n",
    "from sklearn.linear_model import LogisticRegression "
   ]
  },
  {
   "cell_type": "code",
   "execution_count": 2,
   "metadata": {},
   "outputs": [
    {
     "name": "stdout",
     "output_type": "stream",
     "text": [
      "<class 'pandas.core.frame.DataFrame'>\n",
      "RangeIndex: 3214 entries, 0 to 3213\n",
      "Data columns (total 5 columns):\n",
      " #   Column    Non-Null Count  Dtype  \n",
      "---  ------    --------------  -----  \n",
      " 0   calls     3214 non-null   float64\n",
      " 1   minutes   3214 non-null   float64\n",
      " 2   messages  3214 non-null   float64\n",
      " 3   mb_used   3214 non-null   float64\n",
      " 4   is_ultra  3214 non-null   int64  \n",
      "dtypes: float64(4), int64(1)\n",
      "memory usage: 125.7 KB\n"
     ]
    }
   ],
   "source": [
    "df = pd.read_csv(r'C:\\Users\\2011\\Desktop\\Data Science\\Projects\\02-tarifs-recommended/users_behavior.csv')\n",
    "df.info()"
   ]
  },
  {
   "cell_type": "code",
   "execution_count": 3,
   "metadata": {},
   "outputs": [
    {
     "data": {
      "text/html": [
       "<div>\n",
       "<style scoped>\n",
       "    .dataframe tbody tr th:only-of-type {\n",
       "        vertical-align: middle;\n",
       "    }\n",
       "\n",
       "    .dataframe tbody tr th {\n",
       "        vertical-align: top;\n",
       "    }\n",
       "\n",
       "    .dataframe thead th {\n",
       "        text-align: right;\n",
       "    }\n",
       "</style>\n",
       "<table border=\"1\" class=\"dataframe\">\n",
       "  <thead>\n",
       "    <tr style=\"text-align: right;\">\n",
       "      <th></th>\n",
       "      <th>calls</th>\n",
       "      <th>minutes</th>\n",
       "      <th>messages</th>\n",
       "      <th>mb_used</th>\n",
       "      <th>is_ultra</th>\n",
       "    </tr>\n",
       "  </thead>\n",
       "  <tbody>\n",
       "    <tr>\n",
       "      <th>0</th>\n",
       "      <td>40.0</td>\n",
       "      <td>311.90</td>\n",
       "      <td>83.0</td>\n",
       "      <td>19915.42</td>\n",
       "      <td>0</td>\n",
       "    </tr>\n",
       "    <tr>\n",
       "      <th>1</th>\n",
       "      <td>85.0</td>\n",
       "      <td>516.75</td>\n",
       "      <td>56.0</td>\n",
       "      <td>22696.96</td>\n",
       "      <td>0</td>\n",
       "    </tr>\n",
       "    <tr>\n",
       "      <th>2</th>\n",
       "      <td>77.0</td>\n",
       "      <td>467.66</td>\n",
       "      <td>86.0</td>\n",
       "      <td>21060.45</td>\n",
       "      <td>0</td>\n",
       "    </tr>\n",
       "    <tr>\n",
       "      <th>3</th>\n",
       "      <td>106.0</td>\n",
       "      <td>745.53</td>\n",
       "      <td>81.0</td>\n",
       "      <td>8437.39</td>\n",
       "      <td>1</td>\n",
       "    </tr>\n",
       "    <tr>\n",
       "      <th>4</th>\n",
       "      <td>66.0</td>\n",
       "      <td>418.74</td>\n",
       "      <td>1.0</td>\n",
       "      <td>14502.75</td>\n",
       "      <td>0</td>\n",
       "    </tr>\n",
       "    <tr>\n",
       "      <th>5</th>\n",
       "      <td>58.0</td>\n",
       "      <td>344.56</td>\n",
       "      <td>21.0</td>\n",
       "      <td>15823.37</td>\n",
       "      <td>0</td>\n",
       "    </tr>\n",
       "    <tr>\n",
       "      <th>6</th>\n",
       "      <td>57.0</td>\n",
       "      <td>431.64</td>\n",
       "      <td>20.0</td>\n",
       "      <td>3738.90</td>\n",
       "      <td>1</td>\n",
       "    </tr>\n",
       "    <tr>\n",
       "      <th>7</th>\n",
       "      <td>15.0</td>\n",
       "      <td>132.40</td>\n",
       "      <td>6.0</td>\n",
       "      <td>21911.60</td>\n",
       "      <td>0</td>\n",
       "    </tr>\n",
       "    <tr>\n",
       "      <th>8</th>\n",
       "      <td>7.0</td>\n",
       "      <td>43.39</td>\n",
       "      <td>3.0</td>\n",
       "      <td>2538.67</td>\n",
       "      <td>1</td>\n",
       "    </tr>\n",
       "    <tr>\n",
       "      <th>9</th>\n",
       "      <td>90.0</td>\n",
       "      <td>665.41</td>\n",
       "      <td>38.0</td>\n",
       "      <td>17358.61</td>\n",
       "      <td>0</td>\n",
       "    </tr>\n",
       "  </tbody>\n",
       "</table>\n",
       "</div>"
      ],
      "text/plain": [
       "   calls  minutes  messages   mb_used  is_ultra\n",
       "0   40.0   311.90      83.0  19915.42         0\n",
       "1   85.0   516.75      56.0  22696.96         0\n",
       "2   77.0   467.66      86.0  21060.45         0\n",
       "3  106.0   745.53      81.0   8437.39         1\n",
       "4   66.0   418.74       1.0  14502.75         0\n",
       "5   58.0   344.56      21.0  15823.37         0\n",
       "6   57.0   431.64      20.0   3738.90         1\n",
       "7   15.0   132.40       6.0  21911.60         0\n",
       "8    7.0    43.39       3.0   2538.67         1\n",
       "9   90.0   665.41      38.0  17358.61         0"
      ]
     },
     "metadata": {},
     "output_type": "display_data"
    }
   ],
   "source": [
    "display (df.head(10))"
   ]
  },
  {
   "cell_type": "markdown",
   "metadata": {},
   "source": [
    "## Разбиваю данные на выборки"
   ]
  },
  {
   "cell_type": "markdown",
   "metadata": {},
   "source": [
    "Разбиваю данные в пропорции 60-20-20 на тренировочную, валидационную и тестовую выборки"
   ]
  },
  {
   "cell_type": "code",
   "execution_count": 4,
   "metadata": {},
   "outputs": [],
   "source": [
    "df_train, df_valid = train_test_split(df, test_size=0.4, random_state=12345) #сначала делю данные 60-40%\n",
    "df_valid, df_test = train_test_split(df_valid, test_size=0.5, random_state=12345) #беру 40% и делю их пополам \n",
    "\n",
    "features_train = df_train.drop(['is_ultra'], axis=1)\n",
    "target_train = df_train['is_ultra']\n",
    "\n",
    "features_valid = df_valid.drop(['is_ultra'], axis=1)\n",
    "target_valid = df_valid['is_ultra']\n",
    "\n",
    "features_test = df_test.drop(['is_ultra'], axis=1)\n",
    "target_test = df_test['is_ultra']"
   ]
  },
  {
   "cell_type": "markdown",
   "metadata": {},
   "source": [
    "## Исследую модели"
   ]
  },
  {
   "cell_type": "markdown",
   "metadata": {},
   "source": [
    "**Исследую модель решающего дерева**"
   ]
  },
  {
   "cell_type": "markdown",
   "metadata": {},
   "source": [
    "Нахожу оптимальную глубину решающего дерева"
   ]
  },
  {
   "cell_type": "code",
   "execution_count": 5,
   "metadata": {},
   "outputs": [
    {
     "name": "stdout",
     "output_type": "stream",
     "text": [
      "Accuracy наилучшей модели на валидационной выборке: 0.7853810264385692\n",
      "DecisionTreeClassifier(max_depth=3, random_state=12345)\n"
     ]
    }
   ],
   "source": [
    "model = DecisionTreeClassifier(random_state=12345)\n",
    "model.fit(features_train, target_train)\n",
    "\n",
    "predictions_train = model.predict(features_train)\n",
    "predictions_test = model.predict(features_test)\n",
    "\n",
    "best_model = None\n",
    "best_result = 0\n",
    "accuracy_tree = []\n",
    "depth_tree = []\n",
    "for depth in range (1, 60):\n",
    "    model = DecisionTreeClassifier(random_state=12345, max_depth=depth)\n",
    "    model.fit(features_train, target_train)\n",
    "    predictions_valid = model.predict(features_valid)\n",
    "    result = accuracy_score(target_valid, predictions_valid)\n",
    "    accuracy_tree.append(result)\n",
    "    depth_tree.append(depth)\n",
    "    if result > best_result:\n",
    "        best_model = model\n",
    "        best_result = result\n",
    "        \n",
    "print(\"Accuracy наилучшей модели на валидационной выборке:\", best_result)\n",
    "print (best_model)\n",
    "#print (accuracy_tree)\n",
    "#print (depth_tree)"
   ]
  },
  {
   "cell_type": "code",
   "execution_count": 6,
   "metadata": {},
   "outputs": [
    {
     "data": {
      "image/png": "[encoded data removed]",
      "text/plain": [
       "<Figure size 432x288 with 1 Axes>"
      ]
     },
     "metadata": {
      "needs_background": "light"
     },
     "output_type": "display_data"
    }
   ],
   "source": [
    "plt.plot(depth_tree, accuracy_tree)\n",
    "plt.show()"
   ]
  },
  {
   "cell_type": "markdown",
   "metadata": {},
   "source": [
    "Оптимальная глубина решающего дерева max_depth=3.\\\n",
    "Из графика видно, что с увеличением глубины дерева больше max_depth=3 метрика accuracy не увеличивается. При достижении max_depth=10, метрика  accuracy начинает уменьшаться."
   ]
  },
  {
   "cell_type": "markdown",
   "metadata": {},
   "source": [
    "**Исследую алгоритм классификации Случайный лес**"
   ]
  },
  {
   "cell_type": "markdown",
   "metadata": {},
   "source": [
    "Нахожу оптимальное количество деревьев и их глубину"
   ]
  },
  {
   "cell_type": "code",
   "execution_count": 7,
   "metadata": {},
   "outputs": [
    {
     "name": "stdout",
     "output_type": "stream",
     "text": [
      "Accuracy наилучшей модели на валидационной выборке: 0.80248833592535\n",
      "Какие гиперпараметры дали наилучший результат: RandomForestClassifier(max_depth=8, n_estimators=8, random_state=12345)\n"
     ]
    }
   ],
   "source": [
    "best_model = None\n",
    "best_result = 0\n",
    "for est in range(1, 11):\n",
    "    for depth in range(1, 11):\n",
    "        model = RandomForestClassifier(random_state=12345, n_estimators=est, max_depth=depth)\n",
    "        model.fit(features_train, target_train)\n",
    "        result = model.score(features_valid, target_valid)\n",
    "        if result > best_result:\n",
    "            best_model = model\n",
    "            best_result = result\n",
    "\n",
    "print(\"Accuracy наилучшей модели на валидационной выборке:\", best_result)\n",
    "print (\"Какие гиперпараметры дали наилучший результат:\", best_model)"
   ]
  },
  {
   "cell_type": "markdown",
   "metadata": {},
   "source": [
    "**Исследую модель логистической регрессии**"
   ]
  },
  {
   "cell_type": "code",
   "execution_count": 8,
   "metadata": {},
   "outputs": [
    {
     "name": "stdout",
     "output_type": "stream",
     "text": [
      "Accuracy: 0.7107309486780715\n"
     ]
    }
   ],
   "source": [
    "model = LogisticRegression(random_state=12345, solver='lbfgs', max_iter=1000)\n",
    "model.fit(features_train, target_train)\n",
    "predictions = model.predict(features_train)\n",
    "accuracy = model.score(features_valid, target_valid)\n",
    "print ('Accuracy:', accuracy)"
   ]
  },
  {
   "cell_type": "markdown",
   "metadata": {},
   "source": [
    "## Проверяю модель на тестовой выборке"
   ]
  },
  {
   "cell_type": "markdown",
   "metadata": {},
   "source": [
    "**Объединяю тренировочные и валидационные данные**"
   ]
  },
  {
   "cell_type": "code",
   "execution_count": 9,
   "metadata": {},
   "outputs": [],
   "source": [
    "features_train_valid = pd.concat([features_train, features_valid])\n",
    "target_train_valid = pd.concat([target_train, target_valid])"
   ]
  },
  {
   "cell_type": "code",
   "execution_count": 10,
   "metadata": {},
   "outputs": [
    {
     "name": "stdout",
     "output_type": "stream",
     "text": [
      "<class 'pandas.core.frame.DataFrame'>\n",
      "Int64Index: 2571 entries, 3027 to 3197\n",
      "Data columns (total 4 columns):\n",
      " #   Column    Non-Null Count  Dtype  \n",
      "---  ------    --------------  -----  \n",
      " 0   calls     2571 non-null   float64\n",
      " 1   minutes   2571 non-null   float64\n",
      " 2   messages  2571 non-null   float64\n",
      " 3   mb_used   2571 non-null   float64\n",
      "dtypes: float64(4)\n",
      "memory usage: 100.4 KB\n"
     ]
    },
    {
     "data": {
      "text/html": [
       "<div>\n",
       "<style scoped>\n",
       "    .dataframe tbody tr th:only-of-type {\n",
       "        vertical-align: middle;\n",
       "    }\n",
       "\n",
       "    .dataframe tbody tr th {\n",
       "        vertical-align: top;\n",
       "    }\n",
       "\n",
       "    .dataframe thead th {\n",
       "        text-align: right;\n",
       "    }\n",
       "</style>\n",
       "<table border=\"1\" class=\"dataframe\">\n",
       "  <thead>\n",
       "    <tr style=\"text-align: right;\">\n",
       "      <th></th>\n",
       "      <th>calls</th>\n",
       "      <th>minutes</th>\n",
       "      <th>messages</th>\n",
       "      <th>mb_used</th>\n",
       "    </tr>\n",
       "  </thead>\n",
       "  <tbody>\n",
       "    <tr>\n",
       "      <th>3027</th>\n",
       "      <td>60.0</td>\n",
       "      <td>431.56</td>\n",
       "      <td>26.0</td>\n",
       "      <td>14751.26</td>\n",
       "    </tr>\n",
       "    <tr>\n",
       "      <th>434</th>\n",
       "      <td>33.0</td>\n",
       "      <td>265.17</td>\n",
       "      <td>59.0</td>\n",
       "      <td>17398.02</td>\n",
       "    </tr>\n",
       "    <tr>\n",
       "      <th>1226</th>\n",
       "      <td>52.0</td>\n",
       "      <td>341.83</td>\n",
       "      <td>68.0</td>\n",
       "      <td>15462.38</td>\n",
       "    </tr>\n",
       "    <tr>\n",
       "      <th>1054</th>\n",
       "      <td>42.0</td>\n",
       "      <td>226.18</td>\n",
       "      <td>21.0</td>\n",
       "      <td>13243.48</td>\n",
       "    </tr>\n",
       "    <tr>\n",
       "      <th>1842</th>\n",
       "      <td>30.0</td>\n",
       "      <td>198.42</td>\n",
       "      <td>0.0</td>\n",
       "      <td>8189.53</td>\n",
       "    </tr>\n",
       "    <tr>\n",
       "      <th>2142</th>\n",
       "      <td>68.0</td>\n",
       "      <td>403.58</td>\n",
       "      <td>28.0</td>\n",
       "      <td>19210.63</td>\n",
       "    </tr>\n",
       "    <tr>\n",
       "      <th>214</th>\n",
       "      <td>48.0</td>\n",
       "      <td>346.19</td>\n",
       "      <td>103.0</td>\n",
       "      <td>27346.62</td>\n",
       "    </tr>\n",
       "    <tr>\n",
       "      <th>1040</th>\n",
       "      <td>0.0</td>\n",
       "      <td>0.00</td>\n",
       "      <td>29.0</td>\n",
       "      <td>21289.28</td>\n",
       "    </tr>\n",
       "    <tr>\n",
       "      <th>2925</th>\n",
       "      <td>87.0</td>\n",
       "      <td>500.78</td>\n",
       "      <td>63.0</td>\n",
       "      <td>26115.19</td>\n",
       "    </tr>\n",
       "    <tr>\n",
       "      <th>943</th>\n",
       "      <td>31.0</td>\n",
       "      <td>269.94</td>\n",
       "      <td>48.0</td>\n",
       "      <td>13340.59</td>\n",
       "    </tr>\n",
       "  </tbody>\n",
       "</table>\n",
       "</div>"
      ],
      "text/plain": [
       "      calls  minutes  messages   mb_used\n",
       "3027   60.0   431.56      26.0  14751.26\n",
       "434    33.0   265.17      59.0  17398.02\n",
       "1226   52.0   341.83      68.0  15462.38\n",
       "1054   42.0   226.18      21.0  13243.48\n",
       "1842   30.0   198.42       0.0   8189.53\n",
       "2142   68.0   403.58      28.0  19210.63\n",
       "214    48.0   346.19     103.0  27346.62\n",
       "1040    0.0     0.00      29.0  21289.28\n",
       "2925   87.0   500.78      63.0  26115.19\n",
       "943    31.0   269.94      48.0  13340.59"
      ]
     },
     "execution_count": 10,
     "metadata": {},
     "output_type": "execute_result"
    }
   ],
   "source": [
    "features_train_valid.info()\n",
    "features_train_valid.head(10)"
   ]
  },
  {
   "cell_type": "markdown",
   "metadata": {},
   "source": [
    "**Проверяю на тестовой выборке модель случайного леса**"
   ]
  },
  {
   "cell_type": "code",
   "execution_count": 11,
   "metadata": {},
   "outputs": [
    {
     "name": "stdout",
     "output_type": "stream",
     "text": [
      "Accuracy тестовой выборки случайного леса 0.8055987558320373\n"
     ]
    }
   ],
   "source": [
    "model = RandomForestClassifier(max_depth=8, n_estimators=8, random_state=12345)\n",
    "model.fit(features_train_valid, target_train_valid)\n",
    "predictions = model.predict(features_test)\n",
    "\n",
    "accuracy = accuracy_score(target_test, predictions)\n",
    "print ('Accuracy тестовой выборки случайного леса', accuracy)"
   ]
  },
  {
   "cell_type": "markdown",
   "metadata": {},
   "source": [
    "## Проверяю модели на адекватность"
   ]
  },
  {
   "cell_type": "markdown",
   "metadata": {},
   "source": [
    "Чтобы проверить модель на адекватность, я считаю количество 0 и 1 в столбце is_ultra "
   ]
  },
  {
   "cell_type": "code",
   "execution_count": 12,
   "metadata": {},
   "outputs": [
    {
     "name": "stdout",
     "output_type": "stream",
     "text": [
      "Количество нулей: 2229\n",
      "Количество единиц: 985\n",
      "Количество единиц в процентах: 30.647168637212197 %\n"
     ]
    }
   ],
   "source": [
    "nul = 0\n",
    "one = 0\n",
    "for i in df['is_ultra']:\n",
    "    if i==0:\n",
    "        nul +=1\n",
    "    else:\n",
    "        one +=1\n",
    "print ('Количество нулей:', nul)\n",
    "print ('Количество единиц:', one)\n",
    "print ('Количество единиц в процентах:', 100*one/(one+nul), '%')"
   ]
  },
  {
   "cell_type": "markdown",
   "metadata": {},
   "source": [
    "Соотношение нулей и единиц в столбце датафрейма 31% и 69%. Значит модель, которая показывает результат accuracy больше 69% работает адекватно."
   ]
  },
  {
   "cell_type": "markdown",
   "metadata": {},
   "source": [
    "**Вывод**\\\n",
    "У меня были данные о поведении клиентов компании Мегалайн, которые перешли на тарифы \"Смарт\" или \"Ультра\".\\\n",
    "В проекте необходимо было решить задачу классификации и научить модель выбирать подходящий тариф.\\\n",
    "Я исследовала три модели: решающее дерево, случайный лес и логистическая регрессия. Наилучшее accuracy=0,8 показала модель случайного леса. Я проверила модель случайного леса на тестовой выборке и она также показала accuracy=0,8."
   ]
  },
  {
   "cell_type": "code",
   "execution_count": null,
   "metadata": {},
   "outputs": [],
   "source": []
  }
 ],
 "metadata": {
  "ExecuteTimeLog": [
   {
    "duration": 409,
    "start_time": "2022-11-03T04:00:24.842Z"
   },
   {
    "duration": 215,
    "start_time": "2022-11-03T04:00:39.259Z"
   },
   {
    "duration": 17,
    "start_time": "2022-11-03T04:01:09.752Z"
   },
   {
    "duration": 68,
    "start_time": "2022-11-03T04:42:15.786Z"
   },
   {
    "duration": 9,
    "start_time": "2022-11-03T04:42:41.511Z"
   },
   {
    "duration": 698,
    "start_time": "2022-11-03T04:42:47.593Z"
   },
   {
    "duration": 6,
    "start_time": "2022-11-03T04:42:51.041Z"
   },
   {
    "duration": 2,
    "start_time": "2022-11-03T04:49:39.261Z"
   },
   {
    "duration": 56,
    "start_time": "2022-11-03T05:01:26.230Z"
   },
   {
    "duration": 21,
    "start_time": "2022-11-03T05:06:34.969Z"
   },
   {
    "duration": 23,
    "start_time": "2022-11-03T05:10:53.861Z"
   },
   {
    "duration": 8,
    "start_time": "2022-11-03T05:11:03.214Z"
   },
   {
    "duration": 21,
    "start_time": "2022-11-03T05:11:06.616Z"
   },
   {
    "duration": 9,
    "start_time": "2022-11-03T05:39:44.731Z"
   },
   {
    "duration": 8,
    "start_time": "2022-11-03T05:39:50.758Z"
   },
   {
    "duration": 20,
    "start_time": "2022-11-03T05:39:53.391Z"
   },
   {
    "duration": 20,
    "start_time": "2022-11-03T05:41:30.648Z"
   },
   {
    "duration": 19,
    "start_time": "2022-11-03T05:41:57.628Z"
   },
   {
    "duration": 742,
    "start_time": "2022-11-03T05:47:27.699Z"
   },
   {
    "duration": 11,
    "start_time": "2022-11-03T05:52:27.783Z"
   },
   {
    "duration": 15,
    "start_time": "2022-11-03T05:56:18.278Z"
   },
   {
    "duration": 298,
    "start_time": "2022-11-03T06:02:26.977Z"
   },
   {
    "duration": 285,
    "start_time": "2022-11-03T06:04:23.647Z"
   },
   {
    "duration": 292,
    "start_time": "2022-11-03T06:52:35.810Z"
   },
   {
    "duration": 3,
    "start_time": "2022-11-03T06:54:43.116Z"
   },
   {
    "duration": 550,
    "start_time": "2022-11-03T06:58:43.772Z"
   },
   {
    "duration": 10,
    "start_time": "2022-11-03T07:02:11.830Z"
   },
   {
    "duration": 9,
    "start_time": "2022-11-03T07:02:20.137Z"
   },
   {
    "duration": 7,
    "start_time": "2022-11-03T07:04:43.345Z"
   },
   {
    "duration": 27,
    "start_time": "2022-11-03T07:05:16.018Z"
   },
   {
    "duration": 14,
    "start_time": "2022-11-03T07:05:38.313Z"
   },
   {
    "duration": 13,
    "start_time": "2022-11-03T07:06:09.865Z"
   },
   {
    "duration": 3,
    "start_time": "2022-11-03T07:07:17.765Z"
   },
   {
    "duration": 55,
    "start_time": "2022-11-03T07:07:17.770Z"
   },
   {
    "duration": 9,
    "start_time": "2022-11-03T07:07:17.827Z"
   },
   {
    "duration": 20,
    "start_time": "2022-11-03T07:07:17.838Z"
   },
   {
    "duration": 778,
    "start_time": "2022-11-03T07:07:17.860Z"
   },
   {
    "duration": 330,
    "start_time": "2022-11-03T07:07:18.639Z"
   },
   {
    "duration": 559,
    "start_time": "2022-11-03T07:07:18.971Z"
   },
   {
    "duration": 98,
    "start_time": "2022-11-03T07:07:19.532Z"
   },
   {
    "duration": 14,
    "start_time": "2022-11-03T07:07:23.236Z"
   },
   {
    "duration": 7,
    "start_time": "2022-11-03T07:10:53.608Z"
   },
   {
    "duration": 21,
    "start_time": "2022-11-03T07:11:09.873Z"
   },
   {
    "duration": 11,
    "start_time": "2022-11-03T07:14:02.762Z"
   },
   {
    "duration": 28,
    "start_time": "2022-11-03T07:14:05.221Z"
   },
   {
    "duration": 592,
    "start_time": "2022-11-03T07:14:34.533Z"
   },
   {
    "duration": 28,
    "start_time": "2022-11-03T07:15:24.462Z"
   },
   {
    "duration": 17,
    "start_time": "2022-11-03T07:17:07.349Z"
   },
   {
    "duration": 18,
    "start_time": "2022-11-03T07:25:17.678Z"
   },
   {
    "duration": 19,
    "start_time": "2022-11-03T07:36:28.923Z"
   },
   {
    "duration": 582,
    "start_time": "2022-11-03T07:39:45.645Z"
   },
   {
    "duration": 4,
    "start_time": "2022-11-03T08:19:34.633Z"
   },
   {
    "duration": 4,
    "start_time": "2022-11-03T08:21:58.794Z"
   },
   {
    "duration": 5,
    "start_time": "2022-11-03T08:22:12.460Z"
   },
   {
    "duration": 4,
    "start_time": "2022-11-03T08:22:26.212Z"
   },
   {
    "duration": 1660,
    "start_time": "2022-11-03T09:23:50.720Z"
   },
   {
    "duration": 41,
    "start_time": "2022-11-03T09:23:52.382Z"
   },
   {
    "duration": 16,
    "start_time": "2022-11-03T09:23:52.425Z"
   },
   {
    "duration": 12,
    "start_time": "2022-11-03T09:23:52.442Z"
   },
   {
    "duration": 746,
    "start_time": "2022-11-03T09:23:52.456Z"
   },
   {
    "duration": 299,
    "start_time": "2022-11-03T09:23:53.204Z"
   },
   {
    "duration": 522,
    "start_time": "2022-11-03T09:23:53.505Z"
   },
   {
    "duration": 97,
    "start_time": "2022-11-03T09:23:54.032Z"
   },
   {
    "duration": 18,
    "start_time": "2022-11-03T09:23:54.130Z"
   },
   {
    "duration": 81,
    "start_time": "2022-11-03T09:23:54.151Z"
   },
   {
    "duration": 6,
    "start_time": "2022-11-03T09:23:54.234Z"
   },
   {
    "duration": 47,
    "start_time": "2022-11-03T11:06:19.423Z"
   },
   {
    "duration": 1081,
    "start_time": "2022-11-03T11:06:26.281Z"
   },
   {
    "duration": 129,
    "start_time": "2022-11-03T11:06:27.364Z"
   },
   {
    "duration": 17,
    "start_time": "2022-11-03T11:06:27.494Z"
   },
   {
    "duration": 25,
    "start_time": "2022-11-03T11:06:27.513Z"
   },
   {
    "duration": 824,
    "start_time": "2022-11-03T11:06:27.540Z"
   },
   {
    "duration": 337,
    "start_time": "2022-11-03T11:06:28.365Z"
   },
   {
    "duration": 459,
    "start_time": "2022-11-03T11:06:28.704Z"
   },
   {
    "duration": 96,
    "start_time": "2022-11-03T11:06:29.166Z"
   },
   {
    "duration": 105,
    "start_time": "2022-11-03T11:06:29.264Z"
   },
   {
    "duration": 43,
    "start_time": "2022-11-03T11:06:29.372Z"
   },
   {
    "duration": 5,
    "start_time": "2022-11-03T11:06:29.637Z"
   },
   {
    "duration": 1176,
    "start_time": "2022-11-04T04:49:11.425Z"
   },
   {
    "duration": 160,
    "start_time": "2022-11-04T04:49:12.604Z"
   },
   {
    "duration": 19,
    "start_time": "2022-11-04T04:49:12.766Z"
   },
   {
    "duration": 12,
    "start_time": "2022-11-04T04:49:13.525Z"
   },
   {
    "duration": 14,
    "start_time": "2022-11-04T04:49:31.154Z"
   },
   {
    "duration": 17,
    "start_time": "2022-11-04T04:49:48.364Z"
   },
   {
    "duration": 25,
    "start_time": "2022-11-04T04:50:01.693Z"
   },
   {
    "duration": 10,
    "start_time": "2022-11-04T06:01:00.629Z"
   },
   {
    "duration": 750,
    "start_time": "2022-11-04T06:29:39.911Z"
   },
   {
    "duration": 607,
    "start_time": "2022-11-04T06:30:40.626Z"
   },
   {
    "duration": 670,
    "start_time": "2022-11-04T06:32:35.028Z"
   },
   {
    "duration": 612,
    "start_time": "2022-11-04T06:33:09.309Z"
   },
   {
    "duration": 640,
    "start_time": "2022-11-04T06:34:28.582Z"
   },
   {
    "duration": 316,
    "start_time": "2022-11-04T06:35:59.570Z"
   },
   {
    "duration": 576,
    "start_time": "2022-11-04T06:36:30.932Z"
   },
   {
    "duration": 584,
    "start_time": "2022-11-04T06:38:01.332Z"
   },
   {
    "duration": 662,
    "start_time": "2022-11-04T06:42:46.239Z"
   },
   {
    "duration": 137,
    "start_time": "2022-11-04T08:30:41.396Z"
   },
   {
    "duration": 30,
    "start_time": "2022-11-04T08:30:54.419Z"
   },
   {
    "duration": 27,
    "start_time": "2022-11-04T08:32:14.241Z"
   },
   {
    "duration": 973,
    "start_time": "2022-11-04T08:32:33.069Z"
   },
   {
    "duration": 25,
    "start_time": "2022-11-04T08:36:45.763Z"
   },
   {
    "duration": 545,
    "start_time": "2022-11-04T08:38:37.796Z"
   },
   {
    "duration": 593,
    "start_time": "2022-11-04T08:39:01.701Z"
   },
   {
    "duration": 562,
    "start_time": "2022-11-04T08:39:08.257Z"
   },
   {
    "duration": 397,
    "start_time": "2022-11-04T08:44:17.630Z"
   },
   {
    "duration": 187,
    "start_time": "2022-11-04T08:44:22.556Z"
   },
   {
    "duration": 118,
    "start_time": "2022-11-04T08:46:06.390Z"
   },
   {
    "duration": 133,
    "start_time": "2022-11-04T08:47:11.280Z"
   },
   {
    "duration": 144,
    "start_time": "2022-11-04T08:47:55.125Z"
   },
   {
    "duration": 546,
    "start_time": "2022-11-04T08:53:25.541Z"
   },
   {
    "duration": 554,
    "start_time": "2022-11-04T08:53:43.225Z"
   },
   {
    "duration": 1766,
    "start_time": "2022-11-04T09:10:11.871Z"
   },
   {
    "duration": 281,
    "start_time": "2022-11-04T09:10:24.048Z"
   },
   {
    "duration": 6,
    "start_time": "2022-11-04T10:12:54.019Z"
   },
   {
    "duration": 12,
    "start_time": "2022-11-04T10:13:16.257Z"
   },
   {
    "duration": 22,
    "start_time": "2022-11-04T10:13:54.290Z"
   },
   {
    "duration": 14,
    "start_time": "2022-11-04T10:14:39.546Z"
   },
   {
    "duration": 32,
    "start_time": "2022-11-04T10:15:14.987Z"
   },
   {
    "duration": 18,
    "start_time": "2022-11-04T10:15:27.281Z"
   },
   {
    "duration": 4,
    "start_time": "2022-11-04T10:15:35.619Z"
   },
   {
    "duration": 14,
    "start_time": "2022-11-04T10:17:57.099Z"
   },
   {
    "duration": 47,
    "start_time": "2022-11-04T10:18:00.477Z"
   },
   {
    "duration": 11,
    "start_time": "2022-11-04T10:18:34.060Z"
   },
   {
    "duration": 299,
    "start_time": "2022-11-04T10:18:43.779Z"
   },
   {
    "duration": 4,
    "start_time": "2022-11-04T10:19:10.822Z"
   },
   {
    "duration": 41,
    "start_time": "2022-11-04T10:19:10.828Z"
   },
   {
    "duration": 11,
    "start_time": "2022-11-04T10:19:10.872Z"
   },
   {
    "duration": 13,
    "start_time": "2022-11-04T10:19:10.885Z"
   },
   {
    "duration": 568,
    "start_time": "2022-11-04T10:19:10.900Z"
   },
   {
    "duration": 140,
    "start_time": "2022-11-04T10:19:11.470Z"
   },
   {
    "duration": 1805,
    "start_time": "2022-11-04T10:19:11.611Z"
   },
   {
    "duration": 41,
    "start_time": "2022-11-04T10:19:13.418Z"
   },
   {
    "duration": 16,
    "start_time": "2022-11-04T10:19:13.461Z"
   },
   {
    "duration": 27,
    "start_time": "2022-11-04T10:19:13.480Z"
   },
   {
    "duration": 14,
    "start_time": "2022-11-04T10:19:13.510Z"
   },
   {
    "duration": 67,
    "start_time": "2022-11-04T10:19:13.525Z"
   },
   {
    "duration": 183,
    "start_time": "2022-11-04T10:19:13.594Z"
   },
   {
    "duration": 7,
    "start_time": "2022-11-04T10:19:13.779Z"
   },
   {
    "duration": 14,
    "start_time": "2022-11-04T10:23:54.984Z"
   },
   {
    "duration": 3,
    "start_time": "2022-11-04T10:24:00.642Z"
   },
   {
    "duration": 56,
    "start_time": "2022-11-04T10:24:00.647Z"
   },
   {
    "duration": 11,
    "start_time": "2022-11-04T10:24:00.705Z"
   },
   {
    "duration": 39,
    "start_time": "2022-11-04T10:24:00.719Z"
   },
   {
    "duration": 674,
    "start_time": "2022-11-04T10:24:00.760Z"
   },
   {
    "duration": 126,
    "start_time": "2022-11-04T10:24:01.436Z"
   },
   {
    "duration": 1815,
    "start_time": "2022-11-04T10:24:01.564Z"
   },
   {
    "duration": 29,
    "start_time": "2022-11-04T10:24:03.381Z"
   },
   {
    "duration": 5,
    "start_time": "2022-11-04T10:24:03.413Z"
   },
   {
    "duration": 35,
    "start_time": "2022-11-04T10:24:03.420Z"
   },
   {
    "duration": 26,
    "start_time": "2022-11-04T10:24:03.457Z"
   },
   {
    "duration": 60,
    "start_time": "2022-11-04T10:24:03.485Z"
   },
   {
    "duration": 330,
    "start_time": "2022-11-04T10:24:03.547Z"
   },
   {
    "duration": 101,
    "start_time": "2022-11-04T10:24:03.879Z"
   },
   {
    "duration": 9,
    "start_time": "2022-11-04T10:24:35.804Z"
   },
   {
    "duration": 3,
    "start_time": "2022-11-04T10:24:48.685Z"
   },
   {
    "duration": 45,
    "start_time": "2022-11-04T10:24:48.690Z"
   },
   {
    "duration": 10,
    "start_time": "2022-11-04T10:24:48.737Z"
   },
   {
    "duration": 37,
    "start_time": "2022-11-04T10:24:48.749Z"
   },
   {
    "duration": 527,
    "start_time": "2022-11-04T10:24:48.788Z"
   },
   {
    "duration": 126,
    "start_time": "2022-11-04T10:24:49.317Z"
   },
   {
    "duration": 1696,
    "start_time": "2022-11-04T10:24:49.445Z"
   },
   {
    "duration": 38,
    "start_time": "2022-11-04T10:24:51.143Z"
   },
   {
    "duration": 5,
    "start_time": "2022-11-04T10:24:51.184Z"
   },
   {
    "duration": 50,
    "start_time": "2022-11-04T10:24:51.190Z"
   },
   {
    "duration": 18,
    "start_time": "2022-11-04T10:24:51.242Z"
   },
   {
    "duration": 61,
    "start_time": "2022-11-04T10:24:51.262Z"
   },
   {
    "duration": 261,
    "start_time": "2022-11-04T10:24:51.325Z"
   },
   {
    "duration": 97,
    "start_time": "2022-11-04T10:24:51.587Z"
   },
   {
    "duration": 11,
    "start_time": "2022-11-04T10:25:53.359Z"
   },
   {
    "duration": 4,
    "start_time": "2022-11-04T10:25:56.003Z"
   },
   {
    "duration": 57,
    "start_time": "2022-11-04T10:25:56.010Z"
   },
   {
    "duration": 15,
    "start_time": "2022-11-04T10:25:56.069Z"
   },
   {
    "duration": 27,
    "start_time": "2022-11-04T10:25:56.086Z"
   },
   {
    "duration": 628,
    "start_time": "2022-11-04T10:25:56.115Z"
   },
   {
    "duration": 136,
    "start_time": "2022-11-04T10:25:56.745Z"
   },
   {
    "duration": 1746,
    "start_time": "2022-11-04T10:25:56.883Z"
   },
   {
    "duration": 35,
    "start_time": "2022-11-04T10:25:58.631Z"
   },
   {
    "duration": 5,
    "start_time": "2022-11-04T10:25:58.678Z"
   },
   {
    "duration": 29,
    "start_time": "2022-11-04T10:25:58.685Z"
   },
   {
    "duration": 15,
    "start_time": "2022-11-04T10:25:58.716Z"
   },
   {
    "duration": 68,
    "start_time": "2022-11-04T10:25:58.732Z"
   },
   {
    "duration": 181,
    "start_time": "2022-11-04T10:25:58.802Z"
   },
   {
    "duration": 94,
    "start_time": "2022-11-04T10:25:58.985Z"
   },
   {
    "duration": 1276,
    "start_time": "2022-11-04T10:27:40.104Z"
   },
   {
    "duration": 39,
    "start_time": "2022-11-04T10:27:41.382Z"
   },
   {
    "duration": 14,
    "start_time": "2022-11-04T10:27:41.423Z"
   },
   {
    "duration": 9,
    "start_time": "2022-11-04T10:27:41.438Z"
   },
   {
    "duration": 606,
    "start_time": "2022-11-04T10:27:41.448Z"
   },
   {
    "duration": 124,
    "start_time": "2022-11-04T10:27:42.056Z"
   },
   {
    "duration": 1768,
    "start_time": "2022-11-04T10:27:42.182Z"
   },
   {
    "duration": 50,
    "start_time": "2022-11-04T10:27:43.952Z"
   },
   {
    "duration": 5,
    "start_time": "2022-11-04T10:27:44.003Z"
   },
   {
    "duration": 20,
    "start_time": "2022-11-04T10:27:44.010Z"
   },
   {
    "duration": 12,
    "start_time": "2022-11-04T10:27:44.032Z"
   },
   {
    "duration": 63,
    "start_time": "2022-11-04T10:27:44.045Z"
   },
   {
    "duration": 168,
    "start_time": "2022-11-04T10:27:44.110Z"
   },
   {
    "duration": 6,
    "start_time": "2022-11-04T10:27:44.280Z"
   },
   {
    "duration": 3,
    "start_time": "2022-11-04T10:28:39.805Z"
   },
   {
    "duration": 41,
    "start_time": "2022-11-04T10:28:39.809Z"
   },
   {
    "duration": 9,
    "start_time": "2022-11-04T10:28:39.852Z"
   },
   {
    "duration": 9,
    "start_time": "2022-11-04T10:28:39.863Z"
   },
   {
    "duration": 527,
    "start_time": "2022-11-04T10:28:39.874Z"
   },
   {
    "duration": 128,
    "start_time": "2022-11-04T10:28:40.403Z"
   },
   {
    "duration": 1647,
    "start_time": "2022-11-04T10:28:40.533Z"
   },
   {
    "duration": 30,
    "start_time": "2022-11-04T10:28:42.182Z"
   },
   {
    "duration": 3,
    "start_time": "2022-11-04T10:28:42.214Z"
   },
   {
    "duration": 20,
    "start_time": "2022-11-04T10:28:42.219Z"
   },
   {
    "duration": 9,
    "start_time": "2022-11-04T10:28:42.241Z"
   },
   {
    "duration": 56,
    "start_time": "2022-11-04T10:28:42.252Z"
   },
   {
    "duration": 181,
    "start_time": "2022-11-04T10:28:42.310Z"
   },
   {
    "duration": 9,
    "start_time": "2022-11-04T10:28:42.578Z"
   },
   {
    "duration": 3,
    "start_time": "2022-11-04T10:29:10.668Z"
   },
   {
    "duration": 43,
    "start_time": "2022-11-04T10:29:10.673Z"
   },
   {
    "duration": 14,
    "start_time": "2022-11-04T10:29:10.718Z"
   },
   {
    "duration": 16,
    "start_time": "2022-11-04T10:29:10.733Z"
   },
   {
    "duration": 613,
    "start_time": "2022-11-04T10:29:10.751Z"
   },
   {
    "duration": 118,
    "start_time": "2022-11-04T10:29:11.365Z"
   },
   {
    "duration": 1974,
    "start_time": "2022-11-04T10:29:13.703Z"
   },
   {
    "duration": 21,
    "start_time": "2022-11-04T10:29:15.679Z"
   },
   {
    "duration": 4,
    "start_time": "2022-11-04T10:29:15.702Z"
   },
   {
    "duration": 19,
    "start_time": "2022-11-04T10:29:15.707Z"
   },
   {
    "duration": 10,
    "start_time": "2022-11-04T10:29:15.728Z"
   },
   {
    "duration": 67,
    "start_time": "2022-11-04T10:29:15.739Z"
   },
   {
    "duration": 80,
    "start_time": "2022-11-04T10:29:15.808Z"
   },
   {
    "duration": 91,
    "start_time": "2022-11-04T10:29:15.890Z"
   },
   {
    "duration": 17,
    "start_time": "2022-11-04T10:30:09.902Z"
   },
   {
    "duration": 37,
    "start_time": "2022-11-04T10:30:22.583Z"
   },
   {
    "duration": 4,
    "start_time": "2022-11-04T10:30:29.101Z"
   },
   {
    "duration": 43,
    "start_time": "2022-11-04T10:30:29.107Z"
   },
   {
    "duration": 11,
    "start_time": "2022-11-04T10:30:29.151Z"
   },
   {
    "duration": 12,
    "start_time": "2022-11-04T10:30:29.164Z"
   },
   {
    "duration": 642,
    "start_time": "2022-11-04T10:30:29.178Z"
   },
   {
    "duration": 125,
    "start_time": "2022-11-04T10:30:29.822Z"
   },
   {
    "duration": 1799,
    "start_time": "2022-11-04T10:30:29.948Z"
   },
   {
    "duration": 28,
    "start_time": "2022-11-04T10:30:31.749Z"
   },
   {
    "duration": 4,
    "start_time": "2022-11-04T10:30:31.778Z"
   },
   {
    "duration": 24,
    "start_time": "2022-11-04T10:30:31.784Z"
   },
   {
    "duration": 17,
    "start_time": "2022-11-04T10:30:31.810Z"
   },
   {
    "duration": 52,
    "start_time": "2022-11-04T10:30:31.830Z"
   },
   {
    "duration": 501,
    "start_time": "2022-11-04T10:30:31.884Z"
   },
   {
    "duration": 90,
    "start_time": "2022-11-04T10:30:32.388Z"
   },
   {
    "duration": 10,
    "start_time": "2022-11-04T10:30:58.617Z"
   },
   {
    "duration": 4,
    "start_time": "2022-11-04T10:31:01.598Z"
   },
   {
    "duration": 59,
    "start_time": "2022-11-04T10:31:01.604Z"
   },
   {
    "duration": 24,
    "start_time": "2022-11-04T10:31:01.665Z"
   },
   {
    "duration": 29,
    "start_time": "2022-11-04T10:31:01.692Z"
   },
   {
    "duration": 562,
    "start_time": "2022-11-04T10:31:01.722Z"
   },
   {
    "duration": 125,
    "start_time": "2022-11-04T10:31:02.286Z"
   },
   {
    "duration": 1699,
    "start_time": "2022-11-04T10:31:02.413Z"
   },
   {
    "duration": 25,
    "start_time": "2022-11-04T10:31:04.114Z"
   },
   {
    "duration": 4,
    "start_time": "2022-11-04T10:31:04.141Z"
   },
   {
    "duration": 33,
    "start_time": "2022-11-04T10:31:04.147Z"
   },
   {
    "duration": 15,
    "start_time": "2022-11-04T10:31:04.182Z"
   },
   {
    "duration": 32,
    "start_time": "2022-11-04T10:31:04.199Z"
   },
   {
    "duration": 255,
    "start_time": "2022-11-04T10:31:04.232Z"
   },
   {
    "duration": 7,
    "start_time": "2022-11-04T10:31:04.578Z"
   },
   {
    "duration": 3,
    "start_time": "2022-11-04T10:31:46.798Z"
   },
   {
    "duration": 43,
    "start_time": "2022-11-04T10:31:46.802Z"
   },
   {
    "duration": 11,
    "start_time": "2022-11-04T10:31:46.846Z"
   },
   {
    "duration": 9,
    "start_time": "2022-11-04T10:31:46.859Z"
   },
   {
    "duration": 602,
    "start_time": "2022-11-04T10:31:46.870Z"
   },
   {
    "duration": 120,
    "start_time": "2022-11-04T10:31:47.476Z"
   },
   {
    "duration": 1675,
    "start_time": "2022-11-04T10:31:47.598Z"
   },
   {
    "duration": 31,
    "start_time": "2022-11-04T10:31:49.276Z"
   },
   {
    "duration": 4,
    "start_time": "2022-11-04T10:31:49.309Z"
   },
   {
    "duration": 23,
    "start_time": "2022-11-04T10:31:49.315Z"
   },
   {
    "duration": 13,
    "start_time": "2022-11-04T10:31:49.339Z"
   },
   {
    "duration": 42,
    "start_time": "2022-11-04T10:31:49.376Z"
   },
   {
    "duration": 565,
    "start_time": "2022-11-04T10:31:49.419Z"
   },
   {
    "duration": 6,
    "start_time": "2022-11-04T10:31:50.076Z"
   },
   {
    "duration": 1742,
    "start_time": "2022-11-04T14:04:47.572Z"
   },
   {
    "duration": 38,
    "start_time": "2022-11-04T14:04:49.316Z"
   },
   {
    "duration": 15,
    "start_time": "2022-11-04T14:04:49.356Z"
   },
   {
    "duration": 11,
    "start_time": "2022-11-04T14:04:49.374Z"
   },
   {
    "duration": 595,
    "start_time": "2022-11-04T14:04:49.387Z"
   },
   {
    "duration": 125,
    "start_time": "2022-11-04T14:04:49.984Z"
   },
   {
    "duration": 1715,
    "start_time": "2022-11-04T14:04:50.111Z"
   },
   {
    "duration": 25,
    "start_time": "2022-11-04T14:04:51.833Z"
   },
   {
    "duration": 5,
    "start_time": "2022-11-04T14:04:51.859Z"
   },
   {
    "duration": 18,
    "start_time": "2022-11-04T14:04:51.866Z"
   },
   {
    "duration": 11,
    "start_time": "2022-11-04T14:04:51.886Z"
   },
   {
    "duration": 67,
    "start_time": "2022-11-04T14:04:51.898Z"
   },
   {
    "duration": 268,
    "start_time": "2022-11-04T14:04:51.967Z"
   },
   {
    "duration": 97,
    "start_time": "2022-11-04T14:04:52.237Z"
   },
   {
    "duration": 44,
    "start_time": "2022-11-04T14:06:31.542Z"
   },
   {
    "duration": 39,
    "start_time": "2022-11-04T14:06:41.902Z"
   },
   {
    "duration": 50,
    "start_time": "2022-11-05T08:36:09.314Z"
   },
   {
    "duration": 1547,
    "start_time": "2022-11-05T08:36:16.410Z"
   },
   {
    "duration": 125,
    "start_time": "2022-11-05T08:36:17.959Z"
   },
   {
    "duration": 13,
    "start_time": "2022-11-05T08:36:18.086Z"
   },
   {
    "duration": 10,
    "start_time": "2022-11-05T08:36:18.101Z"
   },
   {
    "duration": 620,
    "start_time": "2022-11-05T08:36:18.112Z"
   },
   {
    "duration": 129,
    "start_time": "2022-11-05T08:36:18.734Z"
   },
   {
    "duration": 1672,
    "start_time": "2022-11-05T08:36:18.865Z"
   },
   {
    "duration": 21,
    "start_time": "2022-11-05T08:36:20.538Z"
   },
   {
    "duration": 3,
    "start_time": "2022-11-05T08:36:20.561Z"
   },
   {
    "duration": 18,
    "start_time": "2022-11-05T08:36:20.567Z"
   },
   {
    "duration": 29,
    "start_time": "2022-11-05T08:36:20.586Z"
   },
   {
    "duration": 36,
    "start_time": "2022-11-05T08:36:20.617Z"
   },
   {
    "duration": 356,
    "start_time": "2022-11-05T08:36:20.654Z"
   },
   {
    "duration": 100,
    "start_time": "2022-11-05T08:36:21.012Z"
   },
   {
    "duration": 102,
    "start_time": "2022-11-05T08:46:46.059Z"
   },
   {
    "duration": 1778,
    "start_time": "2022-11-05T09:02:55.165Z"
   },
   {
    "duration": 41,
    "start_time": "2022-11-05T09:02:56.946Z"
   },
   {
    "duration": 21,
    "start_time": "2022-11-05T09:02:56.989Z"
   },
   {
    "duration": 12,
    "start_time": "2022-11-05T09:02:57.011Z"
   },
   {
    "duration": 626,
    "start_time": "2022-11-05T09:02:57.025Z"
   },
   {
    "duration": 141,
    "start_time": "2022-11-05T09:02:57.653Z"
   },
   {
    "duration": 1752,
    "start_time": "2022-11-05T09:02:57.795Z"
   },
   {
    "duration": 30,
    "start_time": "2022-11-05T09:02:59.548Z"
   },
   {
    "duration": 4,
    "start_time": "2022-11-05T09:02:59.580Z"
   },
   {
    "duration": 21,
    "start_time": "2022-11-05T09:02:59.586Z"
   },
   {
    "duration": 36,
    "start_time": "2022-11-05T09:02:59.609Z"
   },
   {
    "duration": 30,
    "start_time": "2022-11-05T09:02:59.647Z"
   },
   {
    "duration": 52,
    "start_time": "2022-11-22T03:45:13.721Z"
   }
  ],
  "kernelspec": {
   "display_name": "Python 3 (ipykernel)",
   "language": "python",
   "name": "python3"
  },
  "language_info": {
   "codemirror_mode": {
    "name": "ipython",
    "version": 3
   },
   "file_extension": ".py",
   "mimetype": "text/x-python",
   "name": "python",
   "nbconvert_exporter": "python",
   "pygments_lexer": "ipython3",
   "version": "3.9.13"
  },
  "toc": {
   "base_numbering": 1,
   "nav_menu": {},
   "number_sections": true,
   "sideBar": true,
   "skip_h1_title": true,
   "title_cell": "Table of Contents",
   "title_sidebar": "Contents",
   "toc_cell": false,
   "toc_position": {
    "height": "calc(100% - 180px)",
    "left": "10px",
    "top": "150px",
    "width": "302.188px"
   },
   "toc_section_display": true,
   "toc_window_display": true
  }
 },
 "nbformat": 4,
 "nbformat_minor": 4
}
